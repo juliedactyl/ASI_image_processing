{
 "cells": [
  {
   "cell_type": "markdown",
   "id": "0f6eb83f-ca49-4a31-8352-a2a8548fb9ca",
   "metadata": {},
   "source": [
    "# Using asistem to analyse BF images with magnetic contrast\n",
    "\n",
    "The asistem module was developed to analyse four images captured with the electron beam displaced to west, south, east and north edges of the ADF-detector."
   ]
  },
  {
   "cell_type": "code",
   "execution_count": 1,
   "id": "a3a32060-30c2-4131-b853-ce6b9e3b2ec7",
   "metadata": {},
   "outputs": [],
   "source": [
    "%matplotlib qt\n",
    "\n",
    "import hyperspy.api as hs\n",
    "import numpy as np\n",
    "import imageio\n",
    "import matplotlib.pyplot as plt\n",
    "from matplotlib_scalebar.scalebar import ScaleBar\n",
    "from mpl_toolkits.axes_grid1.inset_locator import inset_axes\n",
    "import pyxem.utils.pixelated_stem_tools as pst\n",
    "\n",
    "\n",
    "import asistem.image_tools as aipit\n",
    "import asistem.pattern_fitting as aippf\n",
    "import asistem.magnetic_analysis_tools as aipmat"
   ]
  },
  {
   "cell_type": "code",
   "execution_count": 11,
   "id": "18a81d51-5c73-46fa-b03e-c0cea1852b30",
   "metadata": {},
   "outputs": [],
   "source": [
    "# The rotation of the sample relative to the detector\n",
    "rotation = 113\n",
    "\n",
    "# Load the four images\n",
    "signals = hs.load('*.dm3')\n",
    "s_west  = signals[3]\n",
    "s_south = signals[2]\n",
    "s_east  = signals[0]\n",
    "s_north = signals[1]\n",
    "\n",
    "# Set the scale for the scalebar\n",
    "scale = s_west.axes_manager[0].scale"
   ]
  },
  {
   "cell_type": "code",
   "execution_count": 3,
   "id": "edabb40c-3993-48b5-863a-d193379240e6",
   "metadata": {},
   "outputs": [],
   "source": [
    "# Import the pattern to use as a mask\n",
    "pattern = imageio.imread('pinwheelASI.png')"
   ]
  },
  {
   "cell_type": "markdown",
   "id": "48894041-2307-482d-9f35-873fdc93d870",
   "metadata": {},
   "source": [
    "#### Leveling the intensity of the images"
   ]
  },
  {
   "cell_type": "code",
   "execution_count": 4,
   "id": "26213c7b-49c2-4c82-bfd4-1eebb0a326dc",
   "metadata": {},
   "outputs": [],
   "source": [
    "sw = aipit.level_intensity(s_west)\n",
    "se = aipit.level_intensity(s_east)\n",
    "ss = aipit.level_intensity(s_south)\n",
    "sn = aipit.level_intensity(s_north)"
   ]
  },
  {
   "cell_type": "markdown",
   "id": "b99ebdcf-f143-4223-a117-4e46ca5f4299",
   "metadata": {},
   "source": [
    "#### Recreating the BF image and find corners of the FIB-milled pattern"
   ]
  },
  {
   "cell_type": "code",
   "execution_count": 5,
   "id": "4fdcdee8-e082-4f6d-a7fa-c47feb3078eb",
   "metadata": {},
   "outputs": [
    {
     "name": "stdout",
     "output_type": "stream",
     "text": [
      "[########################################] | 100% Completed |  0.1s\n"
     ]
    },
    {
     "data": {
      "application/vnd.jupyter.widget-view+json": {
       "model_id": "0587a4a6d11245d8b1ea308b66a33aaa",
       "version_major": 2,
       "version_minor": 0
      },
      "text/plain": [
       "  0%|          | 0/4 [00:00<?, ?it/s]"
      ]
     },
     "metadata": {},
     "output_type": "display_data"
    },
    {
     "data": {
      "application/vnd.jupyter.widget-view+json": {
       "model_id": "5ab8a13f2bae447c8a0998c6ed29b5de",
       "version_major": 2,
       "version_minor": 0
      },
      "text/plain": [
       "  0%|          | 0/4 [00:00<?, ?it/s]"
      ]
     },
     "metadata": {},
     "output_type": "display_data"
    }
   ],
   "source": [
    "sss = aipit.recreate_bf_image(ss,sn,se,sw)"
   ]
  },
  {
   "cell_type": "code",
   "execution_count": 6,
   "id": "01a8f541-aa27-4daa-be64-9c94be17a5a2",
   "metadata": {},
   "outputs": [],
   "source": [
    "approximate_pattern = aipit.compute_approximate_pattern(sss)"
   ]
  },
  {
   "cell_type": "code",
   "execution_count": 7,
   "id": "0146f47d-fb4c-4c28-a31f-8417a5e7bfdb",
   "metadata": {},
   "outputs": [],
   "source": [
    "coords = aippf.compute_corners(approximate_pattern, k=0.003, sigma=24, plot=True)\n",
    "assert coords.shape[0] == 4"
   ]
  },
  {
   "cell_type": "code",
   "execution_count": 8,
   "id": "5c37d6e1-63ba-41c8-afeb-cd651a0352ad",
   "metadata": {},
   "outputs": [
    {
     "name": "stdout",
     "output_type": "stream",
     "text": [
      "Initial std: 66.308\n",
      "Goal: 56.361\n",
      "Still working, but found 60.317\n",
      "Still working, but found 59.885\n",
      "Still working, but found 59.661\n",
      "Still working, but found 59.206\n",
      "Still working, but found 57.16\n",
      "Still working, but found 56.488\n",
      "Still working, but found 56.4\n",
      "Finished after 102.214s,\n",
      "with std = 54.631.\n"
     ]
    }
   ],
   "source": [
    "mask = aippf.maximise_pattern_fit(sss, pattern, coords, g=.15)"
   ]
  },
  {
   "cell_type": "markdown",
   "id": "c7db1d89-e152-455c-80b2-f391ca87606c",
   "metadata": {
    "tags": []
   },
   "source": [
    "### Calculating the DPC-image and saving the images and magnetic data"
   ]
  },
  {
   "cell_type": "code",
   "execution_count": 9,
   "id": "e25670e7-0ffb-4f0c-9d12-adf69333399a",
   "metadata": {},
   "outputs": [
    {
     "name": "stdout",
     "output_type": "stream",
     "text": [
      "[########################################] | 100% Completed |  0.1s\n",
      "[########################################] | 100% Completed |  0.1s\n"
     ]
    }
   ],
   "source": [
    "m_s, s = aipit.calculate_dpc_image(ss, sn, sw, se, mask, coords=coords)"
   ]
  },
  {
   "cell_type": "code",
   "execution_count": 12,
   "id": "21ec496d-bf4d-4c8a-b232-62445ce26550",
   "metadata": {},
   "outputs": [
    {
     "name": "stderr",
     "output_type": "stream",
     "text": [
      "C:\\Users\\Bruker\\AppData\\Local\\Temp/ipykernel_37720/1417583124.py:37: UserWarning: This figure includes Axes that are not compatible with tight_layout, so results might be incorrect.\n",
      "  fig.tight_layout()\n"
     ]
    }
   ],
   "source": [
    "# Show the DPC x and y signals, along with the DPC colour plots\n",
    "fig, axs = plt.subplots(2, 2, figsize=(8, 8))\n",
    "sigma = 3.5\n",
    "\n",
    "axx   = axs[0, 0]\n",
    "axy   = axs[0, 1]\n",
    "axc   = axs[1, 0]\n",
    "m_axc = axs[1, 1]\n",
    "\n",
    "sb_dpcx = ScaleBar(scale, 'um', location='lower right', color='white',\n",
    "                    frameon=False, width_fraction=.02, label_formatter = lambda x, y:'')\n",
    "sb_dpcy = ScaleBar(scale, 'um', location='lower right', color='white', \n",
    "                    frameon=False, width_fraction=.02, label_formatter = lambda x, y:'')\n",
    "\n",
    "ax_inset = inset_axes(axc, width=\"15%\", height=\"15%\",\n",
    "                      bbox_to_anchor=(0.,0.,1.,1.), bbox_transform=axc.transAxes)\n",
    "m_ax_inset = inset_axes(m_axc, width=\"15%\", height=\"15%\",\n",
    "                      bbox_to_anchor=(0.,0.,1.,1.), bbox_transform=m_axc.transAxes)\n",
    "\n",
    "axx.imshow(s.inav[0].data, cmap='viridis')\n",
    "axx.add_artist(sb_dpcx)\n",
    "axy.imshow(s.inav[1].data, cmap='viridis')\n",
    "axy.add_artist(sb_dpcy)\n",
    "s.get_color_image_with_indicator(ax=axc, ax_indicator=ax_inset, autolim_sigma=4,\n",
    "                                 indicator_rotation=rotation)\n",
    "m_s.get_color_image_with_indicator(ax=m_axc, ax_indicator=m_ax_inset, indicator_rotation=rotation,\n",
    "                                       autolim_sigma=sigma)\n",
    "\n",
    "axx.set_title('DPC x')\n",
    "axy.set_title('DPC y')\n",
    "axc.set_title('DPC color')\n",
    "m_axc.set_title('DPC color of masked signal')\n",
    "\n",
    "for ax in fig.axes:\n",
    "    ax.set_axis_off()\n",
    "\n",
    "fig.tight_layout()\n",
    "# fig.savefig('filename.png', dpi=300)"
   ]
  },
  {
   "cell_type": "markdown",
   "id": "c9c62550-f86c-4248-812e-0e86f8ae13c1",
   "metadata": {
    "tags": []
   },
   "source": [
    "#### Do the segmentation and extract info from masked ASI"
   ]
  },
  {
   "cell_type": "code",
   "execution_count": 13,
   "id": "f5354812-92ec-42c9-b4c9-ddd9811767e3",
   "metadata": {},
   "outputs": [],
   "source": [
    "seg1 = aipmat.get_segmentation_of_dpc_image(m_s, plot=False)"
   ]
  },
  {
   "cell_type": "code",
   "execution_count": 14,
   "id": "fc3d1332-bcbb-4989-a524-45c4cd52b59c",
   "metadata": {},
   "outputs": [],
   "source": [
    "sorted_array_of_magnets = aipmat.extract_magnet_information(seg1, m_s)"
   ]
  },
  {
   "cell_type": "code",
   "execution_count": 15,
   "id": "2bcc81a7-c146-4f78-8143-c768c3312c63",
   "metadata": {},
   "outputs": [],
   "source": [
    "tilty = 0\n",
    "tiltx = -6.9 # This could also be read automatically from the filename\n",
    "# To save the information [scan_rotation, pattern_rotation, (tilt_info)]\n",
    "# Pattern rotation is 0 for square ASI and 45 for pinwheel ASI\n",
    "asi_info = np.array([rotation, 45, (tiltx, tilty)], dtype=object)\n",
    "np.savez('filename.npz', asi=asi_info, magnets=sorted_array_of_magnets)"
   ]
  },
  {
   "cell_type": "markdown",
   "id": "03544fd2-5eb7-4c76-a697-2f33184c470d",
   "metadata": {},
   "source": [
    "## Magnetic analysis of .npz-file"
   ]
  },
  {
   "cell_type": "code",
   "execution_count": 16,
   "id": "47998fa4-9240-4058-b6e5-f1804e61ea60",
   "metadata": {},
   "outputs": [],
   "source": [
    "data = np.load('filename.npz', allow_pickle=True, fix_imports=True)"
   ]
  },
  {
   "cell_type": "code",
   "execution_count": 17,
   "id": "8a5a877d-8ab0-45a7-ba68-af536a4e0b7e",
   "metadata": {},
   "outputs": [],
   "source": [
    "asiinfo = data['asi']\n",
    "magnets = data['magnets']"
   ]
  },
  {
   "cell_type": "code",
   "execution_count": 18,
   "id": "ac4457e2-98b2-4e7d-8168-19567a6a0085",
   "metadata": {},
   "outputs": [
    {
     "name": "stderr",
     "output_type": "stream",
     "text": [
      "100%|██████████████████████████████████████████████████████████████████████████████| 220/220 [00:00<00:00, 2350.46it/s]\n"
     ]
    }
   ],
   "source": [
    "arrows, points, approx_macrospin, points_fixed, colours = aipmat.analyse_artificial_spin_ice(magnets, asiinfo, \n",
    "                                                                                             variance_threshold=0.03, \n",
    "                                                                                             angle_threshold=50)"
   ]
  },
  {
   "cell_type": "code",
   "execution_count": 19,
   "id": "e61f9ea3-ed7d-40cb-8fa1-3692725466dd",
   "metadata": {},
   "outputs": [],
   "source": [
    "fig1, ax = plt.subplots(nrows=1, ncols=2, figsize=(14,7))\n",
    "mins = np.min(arrows, axis=0)\n",
    "maxs = np.max(arrows, axis=0)\n",
    "for a in arrows:\n",
    "    if not (a[0] in points[:,0] and a[1] in points[:,1]):\n",
    "        ax[0].arrow(a[0], a[1], a[2]/2, a[3]/2, color='salmon', head_width=10, length_includes_head=True)\n",
    "ax[0].set_xlim((mins[0]-150,maxs[0]+100))\n",
    "ax[0].set_ylim((maxs[1]+150,mins[1]-150))\n",
    "ax[0].scatter(points[:,0], points[:,1], c='maroon')\n",
    "\n",
    "for i, a in enumerate(approx_macrospin):\n",
    "    ax[1].arrow(a[0], a[1], a[2]/1.1, a[3]/1.1, color=colours[i], head_width=.25, length_includes_head=True)\n",
    "ax[1].scatter(points_fixed[:,0], points_fixed[:,1], color='k')\n",
    "\n",
    "ax[1].set_xlim((-2,22))\n",
    "ax[1].set_ylim((22,-2))\n",
    "\n",
    "for a in ax:\n",
    "    a.set_axis_off()\n",
    "plt.tight_layout()"
   ]
  },
  {
   "cell_type": "code",
   "execution_count": null,
   "id": "8a099a3e-520d-4a82-9b3f-4b61d46918e8",
   "metadata": {},
   "outputs": [],
   "source": []
  }
 ],
 "metadata": {
  "kernelspec": {
   "display_name": "Python 3 (ipykernel)",
   "language": "python",
   "name": "python3"
  },
  "language_info": {
   "codemirror_mode": {
    "name": "ipython",
    "version": 3
   },
   "file_extension": ".py",
   "mimetype": "text/x-python",
   "name": "python",
   "nbconvert_exporter": "python",
   "pygments_lexer": "ipython3",
   "version": "3.9.7"
  }
 },
 "nbformat": 4,
 "nbformat_minor": 5
}
